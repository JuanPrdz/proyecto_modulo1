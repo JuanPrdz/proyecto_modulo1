{
 "cells": [
  {
   "cell_type": "code",
   "execution_count": 1,
   "metadata": {},
   "outputs": [],
   "source": [
    "\n",
    "#Importar numpy y matplotlib.pyplot\n",
    "import numpy as np\n",
    "import matplotlib.pyplot as plt\n",
    "%matplotlib inline\n",
    "import scipy.optimize as opt"
   ]
  },
  {
   "cell_type": "markdown",
   "metadata": {},
   "source": [
    "# Proyecto Inversión de Portafolio en la Bolsa "
   ]
  },
  {
   "cell_type": "markdown",
   "metadata": {},
   "source": [
    "## Objetivo: Maximizar el retorno de inversión al final del periodo de 6 años\n",
    "### Realizar de manera gráfica el comportamiento de los instrumentos de inversión en cuanto a su tipo, su periodo de vencimiento y su disponibilidad\n",
    "### Obtener la cantidad de dinero específica que se debe colocar en cada instrumento de inversión durante el periodo de los 6 años. \n"
   ]
  },
  {
   "cell_type": "markdown",
   "metadata": {},
   "source": [
    "## Problema: \n",
    "\n",
    "\n",
    "Una casa de bolsa ha reunido un capital de **600 millones de pesos para administrarlo por seis años**, por lo que está interesada en encontrar el mejor portafolio de inversiones que le permita maximizar el rendimiento de la inversión en ese periodo. Para este fin, se estudiaron algunos instrumentos de inversión a plazo fijo, obteniéndose datos del rendimiento ofrecido al final del vencimiento. Los periodos de vencimiento y la disponibilidad del instrumento para invertir en él. Al analizar los instrumentos de inversión se vio la necesidad de tener una alternativa más que comprendiera el dinero que intencionalmente no se invierta en ese año esperando una mejor opción de inversión en un periodo futuro. Obviamente el rendimiento de esta alternativa es nulo, no tiene vencimiento y está disponible en forma inmediata, es decir cada año. Con los datos recabados se construyó la siguiente tabla: \n",
    "\n",
    "Instrumento de Inversion|Rendimiento al Final del Periodo (%)|Periodo de Vencimiento (años)|Disponibilidad del Instrumento \n",
    ":----|----|----|----\n",
    "Tipo 1|28|3|Cada Año\n",
    "Tipo 2|16|2|Cada Año\n",
    "Tipo 3|50|3|Principios de año 2\n",
    "Tipo 4|40|2|Cada año después del año 3\n",
    "Tipo 5|45|4|Principios del año 1\n",
    "Tipo 6|0|1|Cada año inmediato\n",
    "\n",
    "La casa de bolsa quiere desarrollar un modelo que le permita determinar el portafolio financiero que maximice el rendimiento del paquete completo al final del año 6."
   ]
  },
  {
   "cell_type": "markdown",
   "metadata": {},
   "source": [
    "### Declaración de variables \n",
    "- $T_{11}$=Intrumento tipo 1 disponibilididad año 0 vencimineto año 3\n",
    "- $T_{12}$=Intrumento tipo 1 disponibilididad año 1 vencimineto año 4\n",
    "- $T_{13}$=Intrumento tipo 1 disponibilididad año 2 vencimineto año 5\n",
    "- $T_{14}$=Intrumento tipo 1 disponibilididad año 3 vencimineto año 6\n",
    "- $T_{21}$=Intrumento tipo 2 disponibilididad año 0 vencimineto año 2\n",
    "- $T_{22}$=Intrumento tipo 2 disponibilididad año 1 vencimineto año 3\n",
    "- $T_{23}$=Intrumento tipo 2 disponibilididad año 2 vencimineto año 4\n",
    "- $T_{24}$=Intrumento tipo 2 disponibilididad año 3 vencimineto año 5\n",
    "- $T_{25}$=Intrumento tipo 2 disponibilididad año 4 vencimineto año 6\n",
    "- $T_{31}$=Intrumento tipo 3 disponibilididad año 2 vencimineto año 5\n",
    "- $T_{41}$=Intrumento tipo 4 disponibilididad año 3 vencimineto año 5\n",
    "- $T_{42}$=Intrumento tipo 4 disponibilididad año 4 vencimineto año 6\n",
    "- $T_{51}$=Intrumento tipo 5 disponibilididad año 1 vencimineto año 5\n",
    "- $T_{61}$=Intrumento tipo 6 disponibilididad año 0 vencimineto año 1\n",
    "- $T_{62}$=Intrumento tipo 6 disponibilididad año 1 vencimineto año 2\n",
    "- $T_{63}$=Intrumento tipo 6 disponibilididad año 2 vencimineto año 3\n",
    "- $T_{64}$=Intrumento tipo 6 disponibilididad año 3 vencimineto año 4\n",
    "- $T_{65}$=Intrumento tipo 6 disponibilididad año 4 vencimineto año 5\n",
    "- $T_{66}$=Intrumento tipo 6 disponibilididad año 5 vencimineto año 6\n",
    "\n",
    "#### *Función a Max* \n",
    "\n",
    "$ \\max_{T_{11}...T_{66}}F.O.=1.28T_{14}+1.16T_{25}+1.4T_{42}+T_{66}$\n",
    "\n",
    "*S.A* \n",
    "+ Año1: $T_{11}+T_{21}+T_{51}+T_{61} \\leq 600,000,000$\n",
    "+ Año2: $T_{12}+T_{22}+T_{31}+T_{62}=T_{61}$\n",
    "+ Año3: $T_{13}+T_{23}+T_{63}=1.16T_{21}+T_{62}$\n",
    "+ Año4: $T_{14}+T_{24}+T_{41}+T_{64}=1.16T_{22}+T_{63}+1.28T_{11}$\n",
    "+ Año5: $T_{25}+T_{42}+T_{65}=1.28T_{12}+1.16T_{23}+1.5T_{31}+1.45T_{51}+T_{64}$\n",
    "+ Año6: $T_{66}=1.28T_{13}+1.16T_{24}+1.4T_{41}+T_{65}$\n",
    "\n",
    "\n",
    "* La función objetivo representa la manera en la que se debe administrar el dinero en los diferentes instrumentos durante los 6 años del periodo. Es decir, la función objetivo es maximizar el retorno de los bonos con fin en el periodo del año 6\n",
    "* Las restricciones están dadas por la disponibilidad de cada bono dependiendo del tiempo, y los bonos que vencen en el mismo periodo, por ejemplo, la restricción de inicios del \"Año 4\", está limitado por la emisión de los bonos $T_{14}$, $T_{24}$, $T_{41}$ y $T_{61}$, y el vencimiento de los bonos con retorno de $1.16T_{22}$, $T_{63}$, $1.28T_{11}$, igualamos por que lo que entra es igual a lo que sale multiplicado siempre por el retorno. Se puede observar de mejor manera en la siguiente tabla:"
   ]
  },
  {
   "cell_type": "markdown",
   "metadata": {},
   "source": [
    "### Explicación gráfica de las restricciones, hay que tener en cuenta el rendimiento de cada instrumento al finalizar su periodo de vencimiento.\n",
    "\n",
    "![.](GRAF.PNG)"
   ]
  },
  {
   "cell_type": "code",
   "execution_count": 2,
   "metadata": {},
   "outputs": [],
   "source": [
    "c = -np.array([0,0,0,1.28, 0,0,0,0,1.16, 0,0,1.4, 0,0,0,0,0,0,1])\n",
    "\n",
    "A = ([[1,0,0,0,1,0,0,0,0,0,0,0,1,1,0,0,0,0,0]])\n",
    "\n",
    "b = np.array([600])\n",
    "\n",
    "A_eq = np.array([[0,1,0,0,0,1,0,0,0,1,0,0,0,-1,1,0,0,0,0],\n",
    "                [0,0,1,0,-1.16,0,1,0,0,0,0,0,0,0,-1,1,0,0,0],\n",
    "                [-1.28,0,0,1,0,-1.16,0,1,0,0,1,0,0,0,0,-1,1,0,0],\n",
    "                [0,-1.28,0,0,0,0,-1.16,0,1,-1.5,0,1,-1.45,0,0,0,-1,1,0],\n",
    "                [0, 0,-1.28,0,0,0,0,-1.16,0,0,-1.4,0,0,0,0,0,0,-1,1]])\n",
    "\n",
    "b_eq = np.array([0,0,0,0,0])\n"
   ]
  },
  {
   "cell_type": "code",
   "execution_count": 3,
   "metadata": {},
   "outputs": [
    {
     "data": {
      "text/plain": [
       "     con: array([0., 0., 0., 0., 0.])\n",
       "     fun: -1260.0\n",
       " message: 'Optimization terminated successfully.'\n",
       "     nit: 10\n",
       "   slack: array([0.])\n",
       "  status: 0\n",
       " success: True\n",
       "       x: array([  0.,   0.,   0.,   0.,   0.,   0.,   0.,   0.,   0., 600.,   0.,\n",
       "       900.,   0., 600.,   0.,   0.,   0.,   0.,   0.])"
      ]
     },
     "execution_count": 3,
     "metadata": {},
     "output_type": "execute_result"
    }
   ],
   "source": [
    "sol2 = opt.linprog(c, A, b, A_eq, b_eq, method=\"simplex\")\n",
    "sol2"
   ]
  },
  {
   "cell_type": "markdown",
   "metadata": {},
   "source": [
    "![.](RESP.PNG)"
   ]
  },
  {
   "cell_type": "markdown",
   "metadata": {},
   "source": [
    "### *Conclusiones*:\n",
    "Los resultados obtenidos nos muestran cómo es que se debe de distribuir el capital a lo largo de los 6 aós del periodo de inversión, invirtiendo primero los 600 millones en el primer bono del **Tipo 6 (T61)**, finalizando el periodo de un año invertir los mismos 600 millones (ya que el instrumento de Tipo 6 no tiene retorno) en el instrumento de **Tipo 3 (T31)**, al finalizar el periodo a inicios de año 5 mover los 900 millones (600 millones más el retorno de inversión del instrumento de Tipo 3 del 50%) al último instrumento disponible del **Tipo 4 (T42)**, dejándonos una suma final del periodo de inversión de un total de **1260 millones de pesos** al finalizar el periodo de 6 años."
   ]
  },
  {
   "cell_type": "markdown",
   "metadata": {},
   "source": [
    "### Referencias:\n",
    "A. Vega (2019): Investigación de operaciones. ITESO"
   ]
  }
 ],
 "metadata": {
  "kernelspec": {
   "display_name": "Python 3",
   "language": "python",
   "name": "python3"
  },
  "language_info": {
   "codemirror_mode": {
    "name": "ipython",
    "version": 3
   },
   "file_extension": ".py",
   "mimetype": "text/x-python",
   "name": "python",
   "nbconvert_exporter": "python",
   "pygments_lexer": "ipython3",
   "version": "3.7.4"
  }
 },
 "nbformat": 4,
 "nbformat_minor": 2
}
